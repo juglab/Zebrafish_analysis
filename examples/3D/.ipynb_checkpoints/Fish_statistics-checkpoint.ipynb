{
 "cells": [
  {
   "cell_type": "code",
   "execution_count": null,
   "metadata": {
    "collapsed": true
   },
   "outputs": [],
   "source": [
    "from skimage import measure\n",
    "from tifffile import imread \n",
    "from scipy.spatial import distance\n",
    "import numpy as np\n",
    "import math\n",
    "import csv\n",
    "import glob\n",
    "import os\n",
    "import xlsxwriter"
   ]
  },
  {
   "cell_type": "code",
   "execution_count": null,
   "metadata": {
    "scrolled": true
   },
   "outputs": [],
   "source": [
    "path   = sorted(glob.glob('../../test/predictions/*.tif'))\n",
    "print(path)"
   ]
  },
  {
   "cell_type": "code",
   "execution_count": null,
   "metadata": {},
   "outputs": [],
   "source": [
    "workbook = xlsxwriter.Workbook('../../test/predictions/statistics_without_curation.xlsx')\n",
    "for file in path:\n",
    "    centroids = []\n",
    "    label_ids = []\n",
    "    volumes = []\n",
    "    props = measure.regionprops(imread(file))\n",
    "\n",
    "    for prop in props:\n",
    "        print('Label: {} >> Object size: {} >> Centroid: {}'.format(prop.label, prop.area, prop.centroid))\n",
    "        label_ids.append(prop.label)\n",
    "        centroids.append(prop.centroid)\n",
    "        volumes.append(prop.area)\n",
    "\n",
    "#     worksheet = workbook.add_worksheet(os.path.basename(file.split('lif')[-1]).split('.tif')[0])\n",
    "    worksheet = workbook.add_worksheet(os.path.basename(file).split('.tif')[0])\n",
    "    \n",
    "    bold = workbook.add_format({'bold': 1})\n",
    "    # Adjust the column width.\n",
    "    worksheet.set_column(1, 1, 15)\n",
    "    \n",
    "    worksheet.write(0, 0, 'Z', bold)\n",
    "    worksheet.write(0, 1, 'Y', bold)\n",
    "    worksheet.write(0, 2, 'X', bold)\n",
    "    worksheet.write(0, 3, 'Volume', bold)\n",
    "    worksheet.write(0, 4, 'Label', bold)\n",
    "    row = 1\n",
    "    for idx in range(len(label_ids)):\n",
    "        col = 0\n",
    "        value = [centroids[idx][0], centroids[idx][1], centroids[idx][2], volumes[idx], label_ids[idx]]\n",
    "        worksheet.write(row, col, value[0] )\n",
    "        worksheet.write(row, col+1, value[1] )\n",
    "        worksheet.write(row, col+2, value[2] )\n",
    "        worksheet.write(row, col+3, value[3] )\n",
    "        worksheet.write(row, col+4, value[4] )\n",
    "        row = row+1\n",
    "\n",
    "workbook.close()"
   ]
  },
  {
   "cell_type": "code",
   "execution_count": null,
   "metadata": {
    "collapsed": true
   },
   "outputs": [],
   "source": []
  }
 ],
 "metadata": {
  "kernelspec": {
   "display_name": "Python 3",
   "language": "python",
   "name": "python3"
  },
  "language_info": {
   "codemirror_mode": {
    "name": "ipython",
    "version": 3
   },
   "file_extension": ".py",
   "mimetype": "text/x-python",
   "name": "python",
   "nbconvert_exporter": "python",
   "pygments_lexer": "ipython3",
   "version": "3.6.1"
  }
 },
 "nbformat": 4,
 "nbformat_minor": 2
}
