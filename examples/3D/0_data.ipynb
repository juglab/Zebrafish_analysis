{
 "cells": [
  {
   "cell_type": "code",
   "execution_count": null,
   "metadata": {},
   "outputs": [],
   "source": [
    "from __future__ import print_function, unicode_literals, absolute_import, division\n",
    "import numpy as np\n",
    "import matplotlib\n",
    "matplotlib.rcParams[\"image.interpolation\"] = None\n",
    "import matplotlib.pyplot as plt\n",
    "%matplotlib inline\n",
    "%config InlineBackend.figure_format = 'retina'\n",
    "\n",
    "from glob import glob\n",
    "from tqdm import tqdm\n",
    "from tifffile import imread\n",
    "from csbdeep.utils import Path, download_and_extract_zip_file\n",
    "\n",
    "from stardist import relabel_image_stardist3D, Rays_GoldenSpiral, calculate_extents\n",
    "from stardist import fill_label_holes, random_label_cmap\n",
    "from stardist.matching import matching_dataset\n",
    "\n",
    "np.random.seed(42)\n",
    "lbl_cmap = random_label_cmap()"
   ]
  },
  {
   "cell_type": "markdown",
   "metadata": {},
   "source": [
    "# Data\n",
    "\n",
    "This notebook demonstrates how the training data for *StarDist* should look like and whether the annotated objects can be appropriately described by star-convex polyhedra. \n",
    "\n",
    "<div class=\"alert alert-block alert-info\">\n",
    "The training data that needs to be provided for StarDist consists of corresponding pairs of raw images and pixelwise annotated ground truth images (masks), where every pixel has a unique integer value indicating the object id (or 0 for background). \n",
    "</div>\n",
    "\n",
    "Load the raw images as `X` and the corrresponding ground truth labels as `Y` in the cell below."
   ]
  },
  {
   "cell_type": "code",
   "execution_count": null,
   "metadata": {},
   "outputs": [],
   "source": [
    "X = sorted(glob('../../data/raw/*.tif'))\n",
    "Y = sorted(glob('../../data/GT/*.tif'))\n",
    "assert all(Path(x).name==Path(y).name for x,y in zip(X,Y))"
   ]
  },
  {
   "cell_type": "code",
   "execution_count": null,
   "metadata": {},
   "outputs": [],
   "source": [
    "X = list(map(imread,X))\n",
    "Y = list(map(imread,Y))"
   ]
  },
  {
   "cell_type": "code",
   "execution_count": null,
   "metadata": {},
   "outputs": [],
   "source": [
    "extents = calculate_extents(Y)\n",
    "anisotropy = tuple(np.max(extents) / extents)\n",
    "print('empirical anisotropy of labeled objects = %s' % str(anisotropy))"
   ]
  },
  {
   "cell_type": "markdown",
   "metadata": {},
   "source": [
    "# Example image"
   ]
  },
  {
   "cell_type": "code",
   "execution_count": null,
   "metadata": {},
   "outputs": [],
   "source": [
    "i = 0\n",
    "img, lbl = X[i], fill_label_holes(Y[i])\n",
    "assert img.ndim in (3,4)\n",
    "# assumed axes ordering of img and lbl is: ZYX(C)"
   ]
  },
  {
   "cell_type": "code",
   "execution_count": null,
   "metadata": {},
   "outputs": [],
   "source": [
    "plt.figure(figsize=(16,10))\n",
    "z = img.shape[0] // 2\n",
    "y = img.shape[1] // 2\n",
    "plt.subplot(121); plt.imshow(img[z],cmap='gray');   plt.axis('off'); plt.title('Raw image (XY slice)')\n",
    "plt.subplot(122); plt.imshow(lbl[z],cmap=lbl_cmap); plt.axis('off'); plt.title('GT labels (XY slice)')\n",
    "plt.figure(figsize=(16,10))\n",
    "plt.subplot(121); plt.imshow(img[:,y],cmap='gray');   plt.axis('off'); plt.title('Raw image (XZ slice)')\n",
    "plt.subplot(122); plt.imshow(lbl[:,y],cmap=lbl_cmap); plt.axis('off'); plt.title('GT labels (XZ slice)')\n",
    "None;"
   ]
  },
  {
   "cell_type": "markdown",
   "metadata": {},
   "source": [
    "# Fitting ground-truth labels with star-convex polyhedra"
   ]
  },
  {
   "cell_type": "code",
   "execution_count": null,
   "metadata": {},
   "outputs": [],
   "source": [
    "def reconstruction_scores(n_rays, anisotropy):\n",
    "    scores = []\n",
    "    for r in tqdm(n_rays):\n",
    "        rays = Rays_GoldenSpiral(r, anisotropy=anisotropy)\n",
    "        Y_reconstructed = [relabel_image_stardist3D(lbl, rays) for lbl in Y]\n",
    "        mean_iou = matching_dataset(Y, Y_reconstructed, thresh=0, show_progress=False).mean_true_score\n",
    "        scores.append(mean_iou)\n",
    "    return scores"
   ]
  },
  {
   "cell_type": "code",
   "execution_count": null,
   "metadata": {},
   "outputs": [],
   "source": [
    "n_rays = [8, 16, 32, 64, 96, 128]\n",
    "scores_iso   = reconstruction_scores(n_rays, anisotropy=None)\n",
    "scores_aniso = reconstruction_scores(n_rays, anisotropy=anisotropy)"
   ]
  },
  {
   "cell_type": "code",
   "execution_count": null,
   "metadata": {},
   "outputs": [],
   "source": [
    "plt.figure(figsize=(8,5))\n",
    "plt.plot(n_rays, scores_iso,   'o-', label='Isotropic')\n",
    "plt.plot(n_rays, scores_aniso, 'o-', label='Anisotropic')\n",
    "plt.xlabel('Number of rays for star-convex polyhedra')\n",
    "plt.ylabel('Reconstruction score (mean intersection over union)')\n",
    "plt.legend()\n",
    "None;"
   ]
  },
  {
   "cell_type": "markdown",
   "metadata": {},
   "source": [
    "# Example image reconstructed with various number of rays"
   ]
  },
  {
   "cell_type": "markdown",
   "metadata": {},
   "source": [
    "## Without taking anisotropy into account"
   ]
  },
  {
   "cell_type": "code",
   "execution_count": null,
   "metadata": {},
   "outputs": [],
   "source": [
    "fig, ax = plt.subplots(2,3, figsize=(16,11))\n",
    "for a,r in zip(ax.flat,n_rays):\n",
    "    z = lbl.shape[0] // 2\n",
    "    rays = Rays_GoldenSpiral(r, anisotropy=None)\n",
    "    a.imshow(relabel_image_stardist3D(lbl, rays)[z], cmap=lbl_cmap)\n",
    "    a.set_title('Reconstructed (XY slice, %d rays)' % r)\n",
    "    a.axis('off')\n",
    "plt.tight_layout();"
   ]
  },
  {
   "cell_type": "markdown",
   "metadata": {},
   "source": [
    "## Taking anisotropy into account"
   ]
  },
  {
   "cell_type": "code",
   "execution_count": null,
   "metadata": {},
   "outputs": [],
   "source": [
    "fig, ax = plt.subplots(2,3, figsize=(16,11))\n",
    "for a,r in zip(ax.flat,n_rays):\n",
    "    z = lbl.shape[0] // 2\n",
    "    rays = Rays_GoldenSpiral(r, anisotropy=anisotropy)\n",
    "    a.imshow(relabel_image_stardist3D(lbl, rays)[z], cmap=lbl_cmap)\n",
    "    a.set_title('Reconstructed (XY slice, %d rays)' % r)\n",
    "    a.axis('off')\n",
    "plt.tight_layout();"
   ]
  },
  {
   "cell_type": "code",
   "execution_count": null,
   "metadata": {},
   "outputs": [],
   "source": []
  }
 ],
 "metadata": {
  "kernelspec": {
   "display_name": "stardist_segmentation_zebrafish",
   "language": "python",
   "name": "stardist_segmentation_zebrafish"
  },
  "language_info": {
   "codemirror_mode": {
    "name": "ipython",
    "version": 3
   },
   "file_extension": ".py",
   "mimetype": "text/x-python",
   "name": "python",
   "nbconvert_exporter": "python",
   "pygments_lexer": "ipython3",
   "version": "3.6.13"
  }
 },
 "nbformat": 4,
 "nbformat_minor": 2
}
